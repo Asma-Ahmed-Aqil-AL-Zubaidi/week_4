{
  "cells": [
    {
      "cell_type": "markdown",
      "metadata": {
        "id": "view-in-github",
        "colab_type": "text"
      },
      "source": [
        "<a href=\"https://colab.research.google.com/github/Asma-Ahmed-Aqil-AL-Zubaidi/week_4/blob/main/Copy_of_Task_2_Convolutional_Neural_Networks_(CNN)_ipynb.ipynb\" target=\"_parent\"><img src=\"https://colab.research.google.com/assets/colab-badge.svg\" alt=\"Open In Colab\"/></a>"
      ]
    },
    {
      "cell_type": "markdown",
      "id": "69e7471b",
      "metadata": {
        "id": "69e7471b"
      },
      "source": [
        "# Exam on Convolutional Neural Networks (CNN)\n",
        "\n",
        "Welcome to the Convolutional Neural Networks (CNN) practical exam. In this exam, you will work on an image classification task to predict the type of traffic sign. You are provided with a dataset of traffic sign images, and your task is to build, train, and evaluate a CNN model.\n",
        "\n",
        "---\n",
        "\n",
        "## Dataset Overview\n",
        "### **Dataset:**\n",
        "* Just run the command under the `Load Data` section to get the data downloaded and unzipped or you can access it [here](https://drive.google.com/file/d/1HwMV-Lt_sWoxc5v6igmTxTwomS3DR6cQ/view?usp=sharing)\n",
        "### **Dataset Name:** Traffic Signs\n",
        "\n",
        "### **Description:**  \n",
        "The dataset contains images of various German traffic signs labeled for classification purposes. Each image belongs to one of the 43 classes, representing different types of traffic signs.\n",
        "\n",
        "### **Labels:**\n",
        "```python\n",
        "classes = {\n",
        "    0:  'Speed limit (20km/h)',\n",
        "    1:  'Speed limit (30km/h)',\n",
        "    2:  'Speed limit (50km/h)',\n",
        "    3:  'Speed limit (60km/h)',\n",
        "    4:  'Speed limit (70km/h)',\n",
        "    5:  'Speed limit (80km/h)',\n",
        "    6:  'End of speed limit (80km/h)',\n",
        "    7:  'Speed limit (100km/h)',\n",
        "    8:  'Speed limit (120km/h)',\n",
        "    9:  'No passing',\n",
        "    10: 'No passing veh over 3.5 tons',\n",
        "    11: 'Right-of-way at intersection',\n",
        "    12: 'Priority road',\n",
        "    13: 'Yield',\n",
        "    14: 'Stop',\n",
        "    15: 'No vehicles',\n",
        "    16: 'Veh > 3.5 tons prohibited',\n",
        "    17: 'No entry',\n",
        "    18: 'General caution',\n",
        "    19: 'Dangerous curve left',\n",
        "    20: 'Dangerous curve right',\n",
        "    21: 'Double curve',\n",
        "    22: 'Bumpy road',\n",
        "    23: 'Slippery road',\n",
        "    24: 'Road narrows on the right',\n",
        "    25: 'Road work',\n",
        "    26: 'Traffic signals',\n",
        "    27: 'Pedestrians',\n",
        "    28: 'Children crossing',\n",
        "    29: 'Bicycles crossing',\n",
        "    30: 'Beware of ice/snow',\n",
        "    31: 'Wild animals crossing',\n",
        "    32: 'End speed + passing limits',\n",
        "    33: 'Turn right ahead',\n",
        "    34: 'Turn left ahead',\n",
        "    35: 'Ahead only',\n",
        "    36: 'Go straight or right',\n",
        "    37: 'Go straight or left',\n",
        "    38: 'Keep right',\n",
        "    39: 'Keep left',\n",
        "    40: 'Roundabout mandatory',\n",
        "    41: 'End of no passing',\n",
        "    42: 'End no passing veh > 3.5 tons'\n",
        "}\n",
        "```\n",
        "\n"
      ]
    },
    {
      "cell_type": "code",
      "source": [
        "from google.colab import drive\n",
        "drive.mount('/content/drive')"
      ],
      "metadata": {
        "colab": {
          "base_uri": "https://localhost:8080/"
        },
        "id": "pZtj29o7YIEN",
        "outputId": "97eb672e-90a5-4470-c8ef-166e1ed358c4"
      },
      "id": "pZtj29o7YIEN",
      "execution_count": 33,
      "outputs": [
        {
          "output_type": "stream",
          "name": "stdout",
          "text": [
            "Drive already mounted at /content/drive; to attempt to forcibly remount, call drive.mount(\"/content/drive\", force_remount=True).\n"
          ]
        }
      ]
    },
    {
      "cell_type": "markdown",
      "id": "66c6f645",
      "metadata": {
        "id": "66c6f645"
      },
      "source": [
        "## Load Data\n",
        "Run the following command to get the data and unzip it, alternatively you can access the data [here](https://drive.google.com/file/d/1HwMV-Lt_sWoxc5v6igmTxTwomS3DR6cQ/view?usp=sharing)."
      ]
    },
    {
      "cell_type": "code",
      "execution_count": 37,
      "id": "ee08de6b",
      "metadata": {
        "id": "ee08de6b",
        "colab": {
          "base_uri": "https://localhost:8080/"
        },
        "outputId": "416c5d29-df27-4761-cbda-8be079476e1b"
      },
      "outputs": [
        {
          "output_type": "stream",
          "name": "stdout",
          "text": [
            "Requirement already satisfied: gdown in /usr/local/lib/python3.10/dist-packages (5.1.0)\n",
            "Requirement already satisfied: beautifulsoup4 in /usr/local/lib/python3.10/dist-packages (from gdown) (4.12.3)\n",
            "Requirement already satisfied: filelock in /usr/local/lib/python3.10/dist-packages (from gdown) (3.15.4)\n",
            "Requirement already satisfied: requests[socks] in /usr/local/lib/python3.10/dist-packages (from gdown) (2.32.3)\n",
            "Requirement already satisfied: tqdm in /usr/local/lib/python3.10/dist-packages (from gdown) (4.66.5)\n",
            "Requirement already satisfied: soupsieve>1.2 in /usr/local/lib/python3.10/dist-packages (from beautifulsoup4->gdown) (2.5)\n",
            "Requirement already satisfied: charset-normalizer<4,>=2 in /usr/local/lib/python3.10/dist-packages (from requests[socks]->gdown) (3.3.2)\n",
            "Requirement already satisfied: idna<4,>=2.5 in /usr/local/lib/python3.10/dist-packages (from requests[socks]->gdown) (3.7)\n",
            "Requirement already satisfied: urllib3<3,>=1.21.1 in /usr/local/lib/python3.10/dist-packages (from requests[socks]->gdown) (2.0.7)\n",
            "Requirement already satisfied: certifi>=2017.4.17 in /usr/local/lib/python3.10/dist-packages (from requests[socks]->gdown) (2024.7.4)\n",
            "Requirement already satisfied: PySocks!=1.5.7,>=1.5.6 in /usr/local/lib/python3.10/dist-packages (from requests[socks]->gdown) (1.7.1)\n",
            "/usr/local/lib/python3.10/dist-packages/gdown/__main__.py:132: FutureWarning: Option `--id` was deprecated in version 4.3.1 and will be removed in 5.0. You don't need to pass it anymore to use a file ID.\n",
            "  warnings.warn(\n",
            "Failed to retrieve file url:\n",
            "\n",
            "\tToo many users have viewed or downloaded this file recently. Please\n",
            "\ttry accessing the file again later. If the file you are trying to\n",
            "\taccess is particularly large or is shared with many people, it may\n",
            "\ttake up to 24 hours to be able to view or download the file. If you\n",
            "\tstill can't access a file after 24 hours, contact your domain\n",
            "\tadministrator.\n",
            "\n",
            "You may still be able to access the file from the browser:\n",
            "\n",
            "\thttps://drive.google.com/uc?id=1HwMV-Lt_sWoxc5v6igmTxTwomS3DR6cQ\n",
            "\n",
            "but Gdown can't. Please check connections and permissions.\n",
            "unzip:  cannot find or open Traffic_Signs.zip, Traffic_Signs.zip.zip or Traffic_Signs.zip.ZIP.\n"
          ]
        }
      ],
      "source": [
        "#https://drive.google.com/file/d/1HwMV-Lt_sWoxc5v6igmTxTwomS3DR6cQ/view?usp=sharing\n",
        "!pip install gdown\n",
        "!gdown --id 1HwMV-Lt_sWoxc5v6igmTxTwomS3DR6cQ\n",
        "!unzip Traffic_Signs.zip"
      ]
    },
    {
      "cell_type": "code",
      "execution_count": 10,
      "id": "22207f85",
      "metadata": {
        "id": "22207f85"
      },
      "outputs": [],
      "source": [
        "import os\n",
        "import numpy as np\n",
        "import pandas as pd\n",
        "import tensorflow as tf\n",
        "from tensorflow.keras.preprocessing.image import ImageDataGenerator\n",
        "from sklearn.model_selection import train_test_split\n",
        "import matplotlib.pyplot as plt\n",
        "from tensorflow.keras.layers import Conv2D, MaxPooling2D, Flatten, Dense, Dropout, BatchNormalization\n",
        "from tensorflow.keras.models import Sequential\n",
        "from tensorflow.keras.optimizers import Adam\n",
        "from tensorflow.keras.callbacks import EarlyStopping\n",
        "from sklearn.metrics import classification_report, confusion_matrix"
      ]
    },
    {
      "cell_type": "code",
      "source": [
        "df = \"/content/drive/MyDrive/Traffic_Signs/Datas\""
      ],
      "metadata": {
        "id": "5Iv2WnpIXq9c"
      },
      "id": "5Iv2WnpIXq9c",
      "execution_count": 42,
      "outputs": []
    },
    {
      "cell_type": "markdown",
      "id": "9bb9f30e",
      "metadata": {
        "id": "9bb9f30e"
      },
      "source": [
        "## Import Libraries"
      ]
    },
    {
      "cell_type": "markdown",
      "id": "3aa9945d",
      "metadata": {
        "id": "3aa9945d"
      },
      "source": [
        "## Data Preprocessing\n",
        "In this section, preprocess the dataset by:\n",
        "- Loading the images from the file paths.\n",
        "- Resizing the images to a consistent size.\n",
        "- Normalizing pixel values.\n",
        "\n",
        "Add more if needed!"
      ]
    },
    {
      "cell_type": "code",
      "execution_count": 40,
      "id": "72042d3e",
      "metadata": {
        "id": "72042d3e",
        "colab": {
          "base_uri": "https://localhost:8080/",
          "height": 843
        },
        "outputId": "2d5b9cb8-67f4-4020-c5e5-e2469a43526a"
      },
      "outputs": [
        {
          "output_type": "display_data",
          "data": {
            "text/plain": [
              "<Figure size 640x480 with 1 Axes>"
            ],
            "image/png": "[encoded data removed]"
          },
          "metadata": {}
        },
        {
          "output_type": "display_data",
          "data": {
            "text/plain": [
              "<Figure size 640x480 with 1 Axes>"
            ],
            "image/png": "[encoded data removed]"
          },
          "metadata": {}
        }
      ],
      "source": [
        "plt.imshow(plt.imread(\"/content/drive/MyDrive/Traffic_Signs/Dataset/0/00000_00000_00001.png\"))\n",
        "plt.show()\n",
        "plt.imshow(plt.imread('/content/drive/MyDrive/Traffic_Signs/Dataset/0/00000_00000_00004.png'))\n",
        "plt.show()"
      ]
    },
    {
      "cell_type": "markdown",
      "id": "541f3c2b",
      "metadata": {
        "id": "541f3c2b"
      },
      "source": [
        "## Data Splitting\n",
        "In this section, we will split our dataset into three parts:\n",
        "\n",
        "* Training set (70%).\n",
        "* Validation set (15%).\n",
        "* Test set (15%)."
      ]
    },
    {
      "cell_type": "code",
      "source": [
        "def filter_jpg(file_path):\n",
        "    return file_path.endswith('.jpg')\n",
        "for file in os.listdir('/content/drive/MyDrive/Traffic_Signs/Dataset/10'):\n",
        "    if not filter_jpg(file):\n",
        "        print(f\"File {file} in Dog is not a .jpg image.\")\n",
        "        os.remove(os.path.join('/content/drive/MyDrive/Traffic_Signs/Dataset/10', file))\n",
        "\n",
        "for file in os.listdir('/content/drive/MyDrive/Traffic_Signs/Dataset/12'):\n",
        "    if not filter_jpg(file):\n",
        "        print(f\"File {file} in Cat is not a .jpg image.\")\n",
        "        os.remove(os.path.join('/content/drive/MyDrive/Traffic_Signs/Dataset/12', file))\n"
      ],
      "metadata": {
        "id": "vQ-B2-JfnfYs"
      },
      "id": "vQ-B2-JfnfYs",
      "execution_count": 27,
      "outputs": []
    },
    {
      "cell_type": "code",
      "source": [
        "import os\n",
        "from PIL import Image\n",
        "\n",
        "directories = ['/content/drive/MyDrive/Traffic_Signs/Dataset/10', '/content/drive/MyDrive/Traffic_Signs/Dataset/12']\n",
        "\n",
        "for directory in directories:\n",
        "    for file_name in os.listdir(directory):\n",
        "        file_path = os.path.join(directory, file_name)\n",
        "        try:\n",
        "            img = Image.open(file_path)\n",
        "            img.verify()\n",
        "        except (IOError, SyntaxError) as e:\n",
        "            print(f\"Removing file {file_path}: {e}\")\n",
        "            os.remove(file_path)"
      ],
      "metadata": {
        "id": "fj4u3dxyniVF"
      },
      "id": "fj4u3dxyniVF",
      "execution_count": 28,
      "outputs": []
    },
    {
      "cell_type": "code",
      "source": [
        "\n",
        "#directories = ['/content/drive/MyDrive/Traffic_Signs/Dataset/0', '/content/drive/MyDrive/Traffic_Signs/Dataset/1','/content/drive/MyDrive/Traffic_Signs/Dataset/10',\n",
        "             #  '/content/drive/MyDrive/Traffic_Signs/Dataset/11','/content/drive/MyDrive/Traffic_Signs/Dataset/11',\"/content/drive/MyDrive/Traffic_Signs/Dataset/12\",\"/content/drive/MyDrive/Traffic_Signs/Dataset/13\",\"/content/drive/MyDrive/Traffic_Signs/Dataset/14\",\n",
        "              # '/content/drive/MyDrive/Traffic_Signs/Dataset/15',\"/content/drive/MyDrive/Traffic_Signs/Dataset/16\",\"/content/drive/MyDrive/Traffic_Signs/Dataset/16\",\"/content/drive/MyDrive/Traffic_Signs/Dataset/17\",\"/content/drive/MyDrive/Traffic_Signs/Dataset/18\",\"/content/drive/MyDrive/Traffic_Signs/Dataset/19\",\n",
        "              # '/content/drive/MyDrive/Traffic_Signs/Dataset/2',\"/content/drive/MyDrive/Traffic_Signs/Dataset/20\",\"/content/drive/MyDrive/Traffic_Signs/Dataset/21\",\n",
        "              # \"/content/drive/MyDrive/Traffic_Signs/Dataset/22\",\"/content/drive/MyDrive/Traffic_Signs/Dataset/23\",\"/content/drive/MyDrive/Traffic_Signs/Dataset/24\"\n",
        "              # \"/content/drive/MyDrive/Traffic_Signs/Dataset/25\",\"/content/drive/MyDrive/Traffic_Signs/Dataset/26\",\n",
        "              # \"/content/drive/MyDrive/Traffic_Signs/Dataset/27\",\"/content/drive/MyDrive/Traffic_Signs/Dataset/28\",\n",
        "              # \"/content/drive/MyDrive/Traffic_Signs/Dataset/29\",\"/content/drive/MyDrive/Traffic_Signs/Dataset/3\"\n",
        "              # ,\"/content/drive/MyDrive/Traffic_Signs/Dataset/30\",\"/content/drive/MyDrive/Traffic_Signs/Dataset/31\"\n",
        "              # ,\"/content/drive/MyDrive/Traffic_Signs/Dataset/32\",\"/content/drive/MyDrive/Traffic_Signs/Dataset/33\",\n",
        "              # \"/content/drive/MyDrive/Traffic_Signs/Dataset/34\",\"/content/drive/MyDrive/Traffic_Signs/Dataset/35\",\"/content/drive/MyDrive/Traffic_Signs/Dataset/36\",\n",
        "              # \"/content/drive/MyDrive/Traffic_Signs/Dataset/37\",\"/content/drive/MyDrive/Traffic_Signs/Dataset/38\",\"/content/drive/MyDrive/Traffic_Signs/Dataset/39\",\"/content/drive/MyDrive/Traffic_Signs/Dataset/4\"\n",
        "              # ,\"/content/drive/MyDrive/Traffic_Signs/Dataset/5\",\"/content/drive/MyDrive/Traffic_Signs/Dataset/6\",\"/content/drive/MyDrive/Traffic_Signs/Dataset/7\",\"/content/drive/MyDrive/Traffic_Signs/Dataset/8\",\"/content/drive/MyDrive/Traffic_Signs/Dataset/9\"]\n"
      ],
      "metadata": {
        "id": "wzyWxDfKdNE6"
      },
      "id": "wzyWxDfKdNE6",
      "execution_count": 25,
      "outputs": []
    },
    {
      "cell_type": "code",
      "source": [
        "source_directory = '/content/drive/MyDrive/Traffic_Signs/Dataset'\n",
        "training_directory = os.path.join(source_directory, '/content/drive/MyDrive/Traffic_Signs/Dataset' )\n",
        "testing_directory  = os.path.join(source_directory, '/content/drive/MyDrive/Traffic_Signs/Dataset')"
      ],
      "metadata": {
        "id": "fMCCahzNTxmg",
        "colab": {
          "base_uri": "https://localhost:8080/",
          "height": 156
        },
        "outputId": "eb07b770-d9f9-4a88-ec18-721fc1c37aff"
      },
      "id": "fMCCahzNTxmg",
      "execution_count": 46,
      "outputs": [
        {
          "output_type": "error",
          "ename": "NameError",
          "evalue": "name 'source_directory' is not defined",
          "traceback": [
            "\u001b[0;31m---------------------------------------------------------------------------\u001b[0m",
            "\u001b[0;31mNameError\u001b[0m                                 Traceback (most recent call last)",
            "\u001b[0;32m<ipython-input-46-b4f3dc403ff0>\u001b[0m in \u001b[0;36m<cell line: 1>\u001b[0;34m()\u001b[0m\n\u001b[0;32m----> 1\u001b[0;31m \u001b[0mtraining_directory\u001b[0m \u001b[0;34m=\u001b[0m \u001b[0mos\u001b[0m\u001b[0;34m.\u001b[0m\u001b[0mpath\u001b[0m\u001b[0;34m.\u001b[0m\u001b[0mjoin\u001b[0m\u001b[0;34m(\u001b[0m\u001b[0msource_directory\u001b[0m\u001b[0;34m,\u001b[0m \u001b[0;34m'/content/drive/MyDrive/Traffic_Signs'\u001b[0m \u001b[0;34m)\u001b[0m\u001b[0;34m\u001b[0m\u001b[0;34m\u001b[0m\u001b[0m\n\u001b[0m\u001b[1;32m      2\u001b[0m \u001b[0mtesting_directory\u001b[0m  \u001b[0;34m=\u001b[0m \u001b[0mos\u001b[0m\u001b[0;34m.\u001b[0m\u001b[0mpath\u001b[0m\u001b[0;34m.\u001b[0m\u001b[0mjoin\u001b[0m\u001b[0;34m(\u001b[0m\u001b[0msource_directory\u001b[0m\u001b[0;34m,\u001b[0m \u001b[0;34m'/content/drive/MyDrive/Traffic_Signs/Dataset_MetaData.csv'\u001b[0m\u001b[0;34m)\u001b[0m\u001b[0;34m\u001b[0m\u001b[0;34m\u001b[0m\u001b[0m\n",
            "\u001b[0;31mNameError\u001b[0m: name 'source_directory' is not defined"
          ]
        }
      ]
    },
    {
      "cell_type": "code",
      "source": [
        "plt.imshow(train_generator[0][0][0])\n",
        "plt.show()\n",
        "plt.imshow(train_generator[0][0][9])\n",
        "plt.show()"
      ],
      "metadata": {
        "id": "W_5JX5ukTzSq"
      },
      "id": "W_5JX5ukTzSq",
      "execution_count": null,
      "outputs": []
    },
    {
      "cell_type": "code",
      "source": [
        "train_generator[0][0][0].shape"
      ],
      "metadata": {
        "id": "Mfsu8FyuT1E0"
      },
      "id": "Mfsu8FyuT1E0",
      "execution_count": null,
      "outputs": []
    },
    {
      "cell_type": "markdown",
      "id": "83974596",
      "metadata": {
        "id": "83974596"
      },
      "source": [
        "## Building the CNN Model\n",
        "In this section, define the architecture of the CNN model. The architecture may consist of:\n",
        "- Convolutional layers with max-pooling\n",
        "- Dropout layers\n",
        "- Flatten layer\n",
        "- Dense layers\n",
        "- Output layer\n",
        "\n",
        "Add and remove any of these as needed!"
      ]
    },
    {
      "cell_type": "code",
      "execution_count": null,
      "id": "977da65a",
      "metadata": {
        "id": "977da65a"
      },
      "outputs": [],
      "source": [
        "model = Sequential()\n",
        "model.add(Conv2D(42, (3, 3), activation='relu', input_shape=(224, 224, 3)))\n",
        "model.add(MaxPooling2D(pool_size=(2, 2)))\n",
        "\n",
        "model.add(Conv2D(64, (3, 3), activation='relu'))\n",
        "model.add(MaxPooling2D(pool_size=(2, 2)))\n",
        "model.add(Dropout(0.2))\n",
        "\n",
        "model.add(Conv2D(128, (3, 3), activation='relu'))\n",
        "model.add(MaxPooling2D(pool_size=(2, 2)))\n",
        "model.add(Dropout(0.25))\n",
        "\n",
        "model.add(Flatten())\n",
        "model.add(Dense(512, activation='relu'))\n",
        "model.add(Dropout(0.3))\n",
        "model.add(Dense(42, activation='softmax'))\n",
        "model.compile(optimizer='adam', loss='binary_crossentropy', metrics=['accuracy'])\n"
      ]
    },
    {
      "cell_type": "markdown",
      "id": "fe1c0940",
      "metadata": {
        "id": "fe1c0940"
      },
      "source": [
        "## Training the Model\n",
        "Train the CNN model using the training data and validate it on the validation set."
      ]
    },
    {
      "cell_type": "code",
      "execution_count": null,
      "id": "ce31faf9",
      "metadata": {
        "id": "ce31faf9"
      },
      "outputs": [],
      "source": [
        "training_samples = 5000\n",
        "validation_samples = 500\n",
        "steps_per_epoch = training_samples // train_generator.batch_size\n",
        "validation_steps = validation_samples // validation_generator.batch_size"
      ]
    },
    {
      "cell_type": "markdown",
      "id": "25ad1b22",
      "metadata": {
        "id": "25ad1b22"
      },
      "source": [
        "## Evaluate the Model\n",
        "Evaluate the performance of the model on the test set."
      ]
    },
    {
      "cell_type": "code",
      "execution_count": null,
      "id": "eb9ed70f",
      "metadata": {
        "id": "eb9ed70f"
      },
      "outputs": [],
      "source": [
        "early_stopping = EarlyStopping(monitor='val_loss', patience=5, restore_best_weights=True)"
      ]
    },
    {
      "cell_type": "code",
      "source": [
        "history = model.fit(train_generator,epochs=50,steps_per_epoch=steps_per_epoch,validation_data=validation_generator,validation_steps=validation_steps)"
      ],
      "metadata": {
        "id": "aDoZxG27T7yq"
      },
      "id": "aDoZxG27T7yq",
      "execution_count": null,
      "outputs": []
    },
    {
      "cell_type": "markdown",
      "id": "a37fca33",
      "metadata": {
        "id": "a37fca33"
      },
      "source": [
        "## Make Predictions\n",
        "Use the trained model to make predictions on new or unseen traffic sign images."
      ]
    },
    {
      "cell_type": "markdown",
      "id": "f1ab3608",
      "metadata": {
        "id": "f1ab3608"
      },
      "source": [
        "if you need new, we prepared some data for you [here](https://drive.google.com/file/d/1S_vpQntND9839x8kJpegaEgtSIA4JxHO/view?usp=sharing), or you can simply run the following command to get the data and unzip it.\n",
        "\n",
        "<small>Note: please note that the file contain MetaData to tell you what each image contains <b>THIS IS JUST FOR YOU TO MAKE SURE</b></smmall>"
      ]
    },
    {
      "cell_type": "code",
      "execution_count": null,
      "id": "a7a5c981",
      "metadata": {
        "id": "a7a5c981"
      },
      "outputs": [],
      "source": [
        "#https://drive.google.com/file/d/1S_vpQntND9839x8kJpegaEgtSIA4JxHO/view?usp=sharing\n",
        "!gdown --id 1S_vpQntND9839x8kJpegaEgtSIA4JxHO\n",
        "!unzip Test_Dataset.zip"
      ]
    },
    {
      "cell_type": "markdown",
      "id": "8430600d",
      "metadata": {
        "id": "8430600d"
      },
      "source": [
        "## Model Performance Visualization\n",
        "Visualize performance metrics such as accuracy and loss over the epochs."
      ]
    },
    {
      "cell_type": "code",
      "execution_count": null,
      "id": "50624cfe",
      "metadata": {
        "id": "50624cfe"
      },
      "outputs": [],
      "source": [
        "model.evaluate(validation_generator)"
      ]
    },
    {
      "cell_type": "code",
      "source": [
        "fig, axes = plt.subplots(2, 5, figsize=(20, 8))\n",
        "\n",
        "for i, ax in enumerate(axes.flat):\n",
        "    image = validation_generator[i][0][0]\n",
        "    true_label = validation_generator[i][1][0]\n",
        "\n",
        "    result = model.predict(image.reshape(1, 224, 224, 3))\n",
        "    if result[0][0] > 0.5:\n",
        "        predicted_label = 'Traffic plate'\n",
        "    else:\n",
        "        predicted_label = 'Traffic signal'\n",
        "\n",
        "    true_label_str = 'Traffic plate' if true_label == 1 else 'Traffic signal'\n",
        "\n",
        "    ax.imshow(image)\n",
        "    ax.set_title(f'True: {true_label_str}\\nPred: {predicted_label}')\n",
        "    ax.axis('off')\n",
        "\n",
        "plt.tight_layout()\n",
        "plt.show()\n"
      ],
      "metadata": {
        "id": "yezKbPf3UAq2"
      },
      "id": "yezKbPf3UAq2",
      "execution_count": null,
      "outputs": []
    },
    {
      "cell_type": "markdown",
      "id": "8d4f3348",
      "metadata": {
        "id": "8d4f3348"
      },
      "source": [
        "## Save the Model\n",
        "Save the trained CNN model for submission."
      ]
    },
    {
      "cell_type": "code",
      "execution_count": null,
      "id": "fe6b2df0",
      "metadata": {
        "id": "fe6b2df0"
      },
      "outputs": [],
      "source": [
        "mode.save(\"model.h5\")"
      ]
    },
    {
      "cell_type": "markdown",
      "id": "ed90995f",
      "metadata": {
        "id": "ed90995f"
      },
      "source": [
        "## Project Questions:\n",
        "\n",
        "1. **Data Preprocessing**: Explain why you chose your specific data preprocessing techniques (e.g., resizing images, normalization, data augmentation). How do these preprocessing steps improve the performance of your CNN model?\n",
        "2. **Model Architecture**: Describe the architecture of your CNN model (e.g., number of convolutional layers, kernel sizes, pooling layers). Why did you choose this structure, and how do you expect each layer to contribute to feature extraction?\n",
        "3. **Activation Functions**: Justify your choice of activation functions. How do they influence the training and output of your CNN?\n",
        "4. **Training Process**: Discuss your choice of batch size, number of epochs, and optimizer. How did these decisions impact the training process and the convergence of the model?\n",
        "5. **Loss Function and Metrics**: Explain why you chose the specific loss function and evaluation metrics for this classification task. How do they align with the goal of correctly classifying traffic signs?\n",
        "6. **Regularization Techniques**: If you used regularization methods like dropout or batch normalization, explain why you implemented them and how they helped prevent overfitting in your model.\n",
        "7. **Model Evaluation**: Justify the method you used to evaluate your model's performance on the test set. Why did you select these evaluation techniques, and what insights did they provide about your model's accuracy and generalization ability?\n",
        "8. **Model Visualization**: Explain the significance of the performance visualizations (e.g., accuracy and loss curves). What do they tell you about your model's training process and its ability to generalize?\n",
        "9. **Overfitting and Underfitting**: Analyze whether the model encountered any overfitting or underfitting during training. What strategies could you implement to mitigate these issues?"
      ]
    },
    {
      "cell_type": "markdown",
      "id": "02e7f114",
      "metadata": {
        "id": "02e7f114"
      },
      "source": [
        "### Answer Here:"
      ]
    }
  ],
  "metadata": {
    "language_info": {
      "name": "python"
    },
    "colab": {
      "provenance": [],
      "machine_shape": "hm",
      "gpuType": "V28",
      "include_colab_link": true
    },
    "accelerator": "TPU",
    "kernelspec": {
      "name": "python3",
      "display_name": "Python 3"
    }
  },
  "nbformat": 4,
  "nbformat_minor": 5
}